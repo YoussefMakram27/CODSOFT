{
 "cells": [
  {
   "cell_type": "markdown",
   "id": "607aa655",
   "metadata": {},
   "source": [
    "Build a machine learning model to identify fraudulent credit card\n",
    "transactions.\n",
    "\n",
    "Preprocess and normalize the transaction data, handle class\n",
    "imbalance issues, and split the dataset into training and testing sets.\n",
    "\n",
    "Train a classification algorithm, such as logistic regression or random\n",
    "forests, to classify transactions as fraudulent or genuine.\n",
    "\n",
    "Evaluate the model's performance using metrics like precision, recall,\n",
    "and F1-score, and consider techniques like oversampling or\n",
    "undersampling for improving results."
   ]
  },
  {
   "cell_type": "code",
   "execution_count": null,
   "id": "77675ef7",
   "metadata": {},
   "outputs": [],
   "source": [
    "import pandas as pd\n",
    "import numpy as np\n",
    "import matplotlib.pyplot as plt\n",
    "import plotly.express as px\n",
    "import plotly.graph_objects as go\n",
    "import seaborn as sns\n",
    "\n",
    "from plotly.subplots import make_subplots\n",
    "from sklearn.model_selection import train_test_split\n",
    "from imblearn.over_sampling import SMOTE\n",
    "from imblearn.under_sampling import NearMiss\n",
    "from sklearn.preprocessing import MinMaxScaler\n",
    "from sklearn.ensemble import RandomForestClassifier\n",
    "from sklearn.svm import SVC\n",
    "from sklearn.metrics import classification_report, confusion_matrix\n",
    "from xgboost import XGBClassifier\n",
    "from sklearn.neighbors import KNeighborsClassifier"
   ]
  },
  {
   "cell_type": "code",
   "execution_count": 51,
   "id": "8085f7b4",
   "metadata": {},
   "outputs": [],
   "source": [
    "df = pd.read_csv('creditcard.csv')"
   ]
  },
  {
   "cell_type": "code",
   "execution_count": 52,
   "id": "2e71c4e0",
   "metadata": {},
   "outputs": [
    {
     "data": {
      "text/html": [
       "<div>\n",
       "<style scoped>\n",
       "    .dataframe tbody tr th:only-of-type {\n",
       "        vertical-align: middle;\n",
       "    }\n",
       "\n",
       "    .dataframe tbody tr th {\n",
       "        vertical-align: top;\n",
       "    }\n",
       "\n",
       "    .dataframe thead th {\n",
       "        text-align: right;\n",
       "    }\n",
       "</style>\n",
       "<table border=\"1\" class=\"dataframe\">\n",
       "  <thead>\n",
       "    <tr style=\"text-align: right;\">\n",
       "      <th></th>\n",
       "      <th>Time</th>\n",
       "      <th>V1</th>\n",
       "      <th>V2</th>\n",
       "      <th>V3</th>\n",
       "      <th>V4</th>\n",
       "      <th>V5</th>\n",
       "      <th>V6</th>\n",
       "      <th>V7</th>\n",
       "      <th>V8</th>\n",
       "      <th>V9</th>\n",
       "      <th>...</th>\n",
       "      <th>V21</th>\n",
       "      <th>V22</th>\n",
       "      <th>V23</th>\n",
       "      <th>V24</th>\n",
       "      <th>V25</th>\n",
       "      <th>V26</th>\n",
       "      <th>V27</th>\n",
       "      <th>V28</th>\n",
       "      <th>Amount</th>\n",
       "      <th>Class</th>\n",
       "    </tr>\n",
       "  </thead>\n",
       "  <tbody>\n",
       "    <tr>\n",
       "      <th>284797</th>\n",
       "      <td>172782.0</td>\n",
       "      <td>-0.241923</td>\n",
       "      <td>0.712247</td>\n",
       "      <td>0.399806</td>\n",
       "      <td>-0.463406</td>\n",
       "      <td>0.244531</td>\n",
       "      <td>-1.343668</td>\n",
       "      <td>0.929369</td>\n",
       "      <td>-0.206210</td>\n",
       "      <td>0.106234</td>\n",
       "      <td>...</td>\n",
       "      <td>-0.228876</td>\n",
       "      <td>-0.514376</td>\n",
       "      <td>0.279598</td>\n",
       "      <td>0.371441</td>\n",
       "      <td>-0.559238</td>\n",
       "      <td>0.113144</td>\n",
       "      <td>0.131507</td>\n",
       "      <td>0.081265</td>\n",
       "      <td>5.49</td>\n",
       "      <td>0</td>\n",
       "    </tr>\n",
       "    <tr>\n",
       "      <th>284798</th>\n",
       "      <td>172782.0</td>\n",
       "      <td>0.219529</td>\n",
       "      <td>0.881246</td>\n",
       "      <td>-0.635891</td>\n",
       "      <td>0.960928</td>\n",
       "      <td>-0.152971</td>\n",
       "      <td>-1.014307</td>\n",
       "      <td>0.427126</td>\n",
       "      <td>0.121340</td>\n",
       "      <td>-0.285670</td>\n",
       "      <td>...</td>\n",
       "      <td>0.099936</td>\n",
       "      <td>0.337120</td>\n",
       "      <td>0.251791</td>\n",
       "      <td>0.057688</td>\n",
       "      <td>-1.508368</td>\n",
       "      <td>0.144023</td>\n",
       "      <td>0.181205</td>\n",
       "      <td>0.215243</td>\n",
       "      <td>24.05</td>\n",
       "      <td>0</td>\n",
       "    </tr>\n",
       "    <tr>\n",
       "      <th>284799</th>\n",
       "      <td>172783.0</td>\n",
       "      <td>-1.775135</td>\n",
       "      <td>-0.004235</td>\n",
       "      <td>1.189786</td>\n",
       "      <td>0.331096</td>\n",
       "      <td>1.196063</td>\n",
       "      <td>5.519980</td>\n",
       "      <td>-1.518185</td>\n",
       "      <td>2.080825</td>\n",
       "      <td>1.159498</td>\n",
       "      <td>...</td>\n",
       "      <td>0.103302</td>\n",
       "      <td>0.654850</td>\n",
       "      <td>-0.348929</td>\n",
       "      <td>0.745323</td>\n",
       "      <td>0.704545</td>\n",
       "      <td>-0.127579</td>\n",
       "      <td>0.454379</td>\n",
       "      <td>0.130308</td>\n",
       "      <td>79.99</td>\n",
       "      <td>0</td>\n",
       "    </tr>\n",
       "    <tr>\n",
       "      <th>284800</th>\n",
       "      <td>172784.0</td>\n",
       "      <td>2.039560</td>\n",
       "      <td>-0.175233</td>\n",
       "      <td>-1.196825</td>\n",
       "      <td>0.234580</td>\n",
       "      <td>-0.008713</td>\n",
       "      <td>-0.726571</td>\n",
       "      <td>0.017050</td>\n",
       "      <td>-0.118228</td>\n",
       "      <td>0.435402</td>\n",
       "      <td>...</td>\n",
       "      <td>-0.268048</td>\n",
       "      <td>-0.717211</td>\n",
       "      <td>0.297930</td>\n",
       "      <td>-0.359769</td>\n",
       "      <td>-0.315610</td>\n",
       "      <td>0.201114</td>\n",
       "      <td>-0.080826</td>\n",
       "      <td>-0.075071</td>\n",
       "      <td>2.68</td>\n",
       "      <td>0</td>\n",
       "    </tr>\n",
       "    <tr>\n",
       "      <th>284801</th>\n",
       "      <td>172785.0</td>\n",
       "      <td>0.120316</td>\n",
       "      <td>0.931005</td>\n",
       "      <td>-0.546012</td>\n",
       "      <td>-0.745097</td>\n",
       "      <td>1.130314</td>\n",
       "      <td>-0.235973</td>\n",
       "      <td>0.812722</td>\n",
       "      <td>0.115093</td>\n",
       "      <td>-0.204064</td>\n",
       "      <td>...</td>\n",
       "      <td>-0.314205</td>\n",
       "      <td>-0.808520</td>\n",
       "      <td>0.050343</td>\n",
       "      <td>0.102800</td>\n",
       "      <td>-0.435870</td>\n",
       "      <td>0.124079</td>\n",
       "      <td>0.217940</td>\n",
       "      <td>0.068803</td>\n",
       "      <td>2.69</td>\n",
       "      <td>0</td>\n",
       "    </tr>\n",
       "    <tr>\n",
       "      <th>284802</th>\n",
       "      <td>172786.0</td>\n",
       "      <td>-11.881118</td>\n",
       "      <td>10.071785</td>\n",
       "      <td>-9.834783</td>\n",
       "      <td>-2.066656</td>\n",
       "      <td>-5.364473</td>\n",
       "      <td>-2.606837</td>\n",
       "      <td>-4.918215</td>\n",
       "      <td>7.305334</td>\n",
       "      <td>1.914428</td>\n",
       "      <td>...</td>\n",
       "      <td>0.213454</td>\n",
       "      <td>0.111864</td>\n",
       "      <td>1.014480</td>\n",
       "      <td>-0.509348</td>\n",
       "      <td>1.436807</td>\n",
       "      <td>0.250034</td>\n",
       "      <td>0.943651</td>\n",
       "      <td>0.823731</td>\n",
       "      <td>0.77</td>\n",
       "      <td>0</td>\n",
       "    </tr>\n",
       "    <tr>\n",
       "      <th>284803</th>\n",
       "      <td>172787.0</td>\n",
       "      <td>-0.732789</td>\n",
       "      <td>-0.055080</td>\n",
       "      <td>2.035030</td>\n",
       "      <td>-0.738589</td>\n",
       "      <td>0.868229</td>\n",
       "      <td>1.058415</td>\n",
       "      <td>0.024330</td>\n",
       "      <td>0.294869</td>\n",
       "      <td>0.584800</td>\n",
       "      <td>...</td>\n",
       "      <td>0.214205</td>\n",
       "      <td>0.924384</td>\n",
       "      <td>0.012463</td>\n",
       "      <td>-1.016226</td>\n",
       "      <td>-0.606624</td>\n",
       "      <td>-0.395255</td>\n",
       "      <td>0.068472</td>\n",
       "      <td>-0.053527</td>\n",
       "      <td>24.79</td>\n",
       "      <td>0</td>\n",
       "    </tr>\n",
       "    <tr>\n",
       "      <th>284804</th>\n",
       "      <td>172788.0</td>\n",
       "      <td>1.919565</td>\n",
       "      <td>-0.301254</td>\n",
       "      <td>-3.249640</td>\n",
       "      <td>-0.557828</td>\n",
       "      <td>2.630515</td>\n",
       "      <td>3.031260</td>\n",
       "      <td>-0.296827</td>\n",
       "      <td>0.708417</td>\n",
       "      <td>0.432454</td>\n",
       "      <td>...</td>\n",
       "      <td>0.232045</td>\n",
       "      <td>0.578229</td>\n",
       "      <td>-0.037501</td>\n",
       "      <td>0.640134</td>\n",
       "      <td>0.265745</td>\n",
       "      <td>-0.087371</td>\n",
       "      <td>0.004455</td>\n",
       "      <td>-0.026561</td>\n",
       "      <td>67.88</td>\n",
       "      <td>0</td>\n",
       "    </tr>\n",
       "    <tr>\n",
       "      <th>284805</th>\n",
       "      <td>172788.0</td>\n",
       "      <td>-0.240440</td>\n",
       "      <td>0.530483</td>\n",
       "      <td>0.702510</td>\n",
       "      <td>0.689799</td>\n",
       "      <td>-0.377961</td>\n",
       "      <td>0.623708</td>\n",
       "      <td>-0.686180</td>\n",
       "      <td>0.679145</td>\n",
       "      <td>0.392087</td>\n",
       "      <td>...</td>\n",
       "      <td>0.265245</td>\n",
       "      <td>0.800049</td>\n",
       "      <td>-0.163298</td>\n",
       "      <td>0.123205</td>\n",
       "      <td>-0.569159</td>\n",
       "      <td>0.546668</td>\n",
       "      <td>0.108821</td>\n",
       "      <td>0.104533</td>\n",
       "      <td>10.00</td>\n",
       "      <td>0</td>\n",
       "    </tr>\n",
       "    <tr>\n",
       "      <th>284806</th>\n",
       "      <td>172792.0</td>\n",
       "      <td>-0.533413</td>\n",
       "      <td>-0.189733</td>\n",
       "      <td>0.703337</td>\n",
       "      <td>-0.506271</td>\n",
       "      <td>-0.012546</td>\n",
       "      <td>-0.649617</td>\n",
       "      <td>1.577006</td>\n",
       "      <td>-0.414650</td>\n",
       "      <td>0.486180</td>\n",
       "      <td>...</td>\n",
       "      <td>0.261057</td>\n",
       "      <td>0.643078</td>\n",
       "      <td>0.376777</td>\n",
       "      <td>0.008797</td>\n",
       "      <td>-0.473649</td>\n",
       "      <td>-0.818267</td>\n",
       "      <td>-0.002415</td>\n",
       "      <td>0.013649</td>\n",
       "      <td>217.00</td>\n",
       "      <td>0</td>\n",
       "    </tr>\n",
       "  </tbody>\n",
       "</table>\n",
       "<p>10 rows × 31 columns</p>\n",
       "</div>"
      ],
      "text/plain": [
       "            Time         V1         V2        V3        V4        V5  \\\n",
       "284797  172782.0  -0.241923   0.712247  0.399806 -0.463406  0.244531   \n",
       "284798  172782.0   0.219529   0.881246 -0.635891  0.960928 -0.152971   \n",
       "284799  172783.0  -1.775135  -0.004235  1.189786  0.331096  1.196063   \n",
       "284800  172784.0   2.039560  -0.175233 -1.196825  0.234580 -0.008713   \n",
       "284801  172785.0   0.120316   0.931005 -0.546012 -0.745097  1.130314   \n",
       "284802  172786.0 -11.881118  10.071785 -9.834783 -2.066656 -5.364473   \n",
       "284803  172787.0  -0.732789  -0.055080  2.035030 -0.738589  0.868229   \n",
       "284804  172788.0   1.919565  -0.301254 -3.249640 -0.557828  2.630515   \n",
       "284805  172788.0  -0.240440   0.530483  0.702510  0.689799 -0.377961   \n",
       "284806  172792.0  -0.533413  -0.189733  0.703337 -0.506271 -0.012546   \n",
       "\n",
       "              V6        V7        V8        V9  ...       V21       V22  \\\n",
       "284797 -1.343668  0.929369 -0.206210  0.106234  ... -0.228876 -0.514376   \n",
       "284798 -1.014307  0.427126  0.121340 -0.285670  ...  0.099936  0.337120   \n",
       "284799  5.519980 -1.518185  2.080825  1.159498  ...  0.103302  0.654850   \n",
       "284800 -0.726571  0.017050 -0.118228  0.435402  ... -0.268048 -0.717211   \n",
       "284801 -0.235973  0.812722  0.115093 -0.204064  ... -0.314205 -0.808520   \n",
       "284802 -2.606837 -4.918215  7.305334  1.914428  ...  0.213454  0.111864   \n",
       "284803  1.058415  0.024330  0.294869  0.584800  ...  0.214205  0.924384   \n",
       "284804  3.031260 -0.296827  0.708417  0.432454  ...  0.232045  0.578229   \n",
       "284805  0.623708 -0.686180  0.679145  0.392087  ...  0.265245  0.800049   \n",
       "284806 -0.649617  1.577006 -0.414650  0.486180  ...  0.261057  0.643078   \n",
       "\n",
       "             V23       V24       V25       V26       V27       V28  Amount  \\\n",
       "284797  0.279598  0.371441 -0.559238  0.113144  0.131507  0.081265    5.49   \n",
       "284798  0.251791  0.057688 -1.508368  0.144023  0.181205  0.215243   24.05   \n",
       "284799 -0.348929  0.745323  0.704545 -0.127579  0.454379  0.130308   79.99   \n",
       "284800  0.297930 -0.359769 -0.315610  0.201114 -0.080826 -0.075071    2.68   \n",
       "284801  0.050343  0.102800 -0.435870  0.124079  0.217940  0.068803    2.69   \n",
       "284802  1.014480 -0.509348  1.436807  0.250034  0.943651  0.823731    0.77   \n",
       "284803  0.012463 -1.016226 -0.606624 -0.395255  0.068472 -0.053527   24.79   \n",
       "284804 -0.037501  0.640134  0.265745 -0.087371  0.004455 -0.026561   67.88   \n",
       "284805 -0.163298  0.123205 -0.569159  0.546668  0.108821  0.104533   10.00   \n",
       "284806  0.376777  0.008797 -0.473649 -0.818267 -0.002415  0.013649  217.00   \n",
       "\n",
       "        Class  \n",
       "284797      0  \n",
       "284798      0  \n",
       "284799      0  \n",
       "284800      0  \n",
       "284801      0  \n",
       "284802      0  \n",
       "284803      0  \n",
       "284804      0  \n",
       "284805      0  \n",
       "284806      0  \n",
       "\n",
       "[10 rows x 31 columns]"
      ]
     },
     "execution_count": 52,
     "metadata": {},
     "output_type": "execute_result"
    }
   ],
   "source": [
    "df.tail(10)"
   ]
  },
  {
   "cell_type": "code",
   "execution_count": 53,
   "id": "759480b4",
   "metadata": {},
   "outputs": [
    {
     "data": {
      "text/plain": [
       "(284807, 31)"
      ]
     },
     "execution_count": 53,
     "metadata": {},
     "output_type": "execute_result"
    }
   ],
   "source": [
    "df.shape"
   ]
  },
  {
   "cell_type": "code",
   "execution_count": 54,
   "id": "6fc4f4da",
   "metadata": {},
   "outputs": [
    {
     "name": "stdout",
     "output_type": "stream",
     "text": [
      "<class 'pandas.core.frame.DataFrame'>\n",
      "RangeIndex: 284807 entries, 0 to 284806\n",
      "Data columns (total 31 columns):\n",
      " #   Column  Non-Null Count   Dtype  \n",
      "---  ------  --------------   -----  \n",
      " 0   Time    284807 non-null  float64\n",
      " 1   V1      284807 non-null  float64\n",
      " 2   V2      284807 non-null  float64\n",
      " 3   V3      284807 non-null  float64\n",
      " 4   V4      284807 non-null  float64\n",
      " 5   V5      284807 non-null  float64\n",
      " 6   V6      284807 non-null  float64\n",
      " 7   V7      284807 non-null  float64\n",
      " 8   V8      284807 non-null  float64\n",
      " 9   V9      284807 non-null  float64\n",
      " 10  V10     284807 non-null  float64\n",
      " 11  V11     284807 non-null  float64\n",
      " 12  V12     284807 non-null  float64\n",
      " 13  V13     284807 non-null  float64\n",
      " 14  V14     284807 non-null  float64\n",
      " 15  V15     284807 non-null  float64\n",
      " 16  V16     284807 non-null  float64\n",
      " 17  V17     284807 non-null  float64\n",
      " 18  V18     284807 non-null  float64\n",
      " 19  V19     284807 non-null  float64\n",
      " 20  V20     284807 non-null  float64\n",
      " 21  V21     284807 non-null  float64\n",
      " 22  V22     284807 non-null  float64\n",
      " 23  V23     284807 non-null  float64\n",
      " 24  V24     284807 non-null  float64\n",
      " 25  V25     284807 non-null  float64\n",
      " 26  V26     284807 non-null  float64\n",
      " 27  V27     284807 non-null  float64\n",
      " 28  V28     284807 non-null  float64\n",
      " 29  Amount  284807 non-null  float64\n",
      " 30  Class   284807 non-null  int64  \n",
      "dtypes: float64(30), int64(1)\n",
      "memory usage: 67.4 MB\n"
     ]
    }
   ],
   "source": [
    "df.info()"
   ]
  },
  {
   "cell_type": "code",
   "execution_count": 55,
   "id": "ff078eb5",
   "metadata": {},
   "outputs": [
    {
     "data": {
      "text/plain": [
       "0"
      ]
     },
     "execution_count": 55,
     "metadata": {},
     "output_type": "execute_result"
    }
   ],
   "source": [
    "df.isna().sum().sum()"
   ]
  },
  {
   "cell_type": "code",
   "execution_count": 59,
   "id": "385f1e30",
   "metadata": {},
   "outputs": [
    {
     "data": {
      "text/plain": [
       "492"
      ]
     },
     "execution_count": 59,
     "metadata": {},
     "output_type": "execute_result"
    }
   ],
   "source": [
    "df.loc[df['Class'] == 1].shape[0]"
   ]
  },
  {
   "cell_type": "code",
   "execution_count": 60,
   "id": "e7694f3b",
   "metadata": {},
   "outputs": [
    {
     "data": {
      "application/vnd.plotly.v1+json": {
       "config": {
        "plotlyServerURL": "https://plot.ly"
       },
       "data": [
        {
         "hovertemplate": "x=%{x}<br>y=%{y}<extra></extra>",
         "legendgroup": "",
         "marker": {
          "color": "#636efa",
          "pattern": {
           "shape": ""
          }
         },
         "name": "",
         "orientation": "h",
         "showlegend": false,
         "textposition": "auto",
         "type": "bar",
         "x": {
          "bdata": "m1YEAOwBAAA=",
          "dtype": "i4"
         },
         "xaxis": "x",
         "y": {
          "bdata": "AAE=",
          "dtype": "i1"
         },
         "yaxis": "y"
        }
       ],
       "layout": {
        "barmode": "relative",
        "height": 300,
        "legend": {
         "tracegroupgap": 0
        },
        "template": {
         "data": {
          "bar": [
           {
            "error_x": {
             "color": "#2a3f5f"
            },
            "error_y": {
             "color": "#2a3f5f"
            },
            "marker": {
             "line": {
              "color": "#E5ECF6",
              "width": 0.5
             },
             "pattern": {
              "fillmode": "overlay",
              "size": 10,
              "solidity": 0.2
             }
            },
            "type": "bar"
           }
          ],
          "barpolar": [
           {
            "marker": {
             "line": {
              "color": "#E5ECF6",
              "width": 0.5
             },
             "pattern": {
              "fillmode": "overlay",
              "size": 10,
              "solidity": 0.2
             }
            },
            "type": "barpolar"
           }
          ],
          "carpet": [
           {
            "aaxis": {
             "endlinecolor": "#2a3f5f",
             "gridcolor": "white",
             "linecolor": "white",
             "minorgridcolor": "white",
             "startlinecolor": "#2a3f5f"
            },
            "baxis": {
             "endlinecolor": "#2a3f5f",
             "gridcolor": "white",
             "linecolor": "white",
             "minorgridcolor": "white",
             "startlinecolor": "#2a3f5f"
            },
            "type": "carpet"
           }
          ],
          "choropleth": [
           {
            "colorbar": {
             "outlinewidth": 0,
             "ticks": ""
            },
            "type": "choropleth"
           }
          ],
          "contour": [
           {
            "colorbar": {
             "outlinewidth": 0,
             "ticks": ""
            },
            "colorscale": [
             [
              0,
              "#0d0887"
             ],
             [
              0.1111111111111111,
              "#46039f"
             ],
             [
              0.2222222222222222,
              "#7201a8"
             ],
             [
              0.3333333333333333,
              "#9c179e"
             ],
             [
              0.4444444444444444,
              "#bd3786"
             ],
             [
              0.5555555555555556,
              "#d8576b"
             ],
             [
              0.6666666666666666,
              "#ed7953"
             ],
             [
              0.7777777777777778,
              "#fb9f3a"
             ],
             [
              0.8888888888888888,
              "#fdca26"
             ],
             [
              1,
              "#f0f921"
             ]
            ],
            "type": "contour"
           }
          ],
          "contourcarpet": [
           {
            "colorbar": {
             "outlinewidth": 0,
             "ticks": ""
            },
            "type": "contourcarpet"
           }
          ],
          "heatmap": [
           {
            "colorbar": {
             "outlinewidth": 0,
             "ticks": ""
            },
            "colorscale": [
             [
              0,
              "#0d0887"
             ],
             [
              0.1111111111111111,
              "#46039f"
             ],
             [
              0.2222222222222222,
              "#7201a8"
             ],
             [
              0.3333333333333333,
              "#9c179e"
             ],
             [
              0.4444444444444444,
              "#bd3786"
             ],
             [
              0.5555555555555556,
              "#d8576b"
             ],
             [
              0.6666666666666666,
              "#ed7953"
             ],
             [
              0.7777777777777778,
              "#fb9f3a"
             ],
             [
              0.8888888888888888,
              "#fdca26"
             ],
             [
              1,
              "#f0f921"
             ]
            ],
            "type": "heatmap"
           }
          ],
          "histogram": [
           {
            "marker": {
             "pattern": {
              "fillmode": "overlay",
              "size": 10,
              "solidity": 0.2
             }
            },
            "type": "histogram"
           }
          ],
          "histogram2d": [
           {
            "colorbar": {
             "outlinewidth": 0,
             "ticks": ""
            },
            "colorscale": [
             [
              0,
              "#0d0887"
             ],
             [
              0.1111111111111111,
              "#46039f"
             ],
             [
              0.2222222222222222,
              "#7201a8"
             ],
             [
              0.3333333333333333,
              "#9c179e"
             ],
             [
              0.4444444444444444,
              "#bd3786"
             ],
             [
              0.5555555555555556,
              "#d8576b"
             ],
             [
              0.6666666666666666,
              "#ed7953"
             ],
             [
              0.7777777777777778,
              "#fb9f3a"
             ],
             [
              0.8888888888888888,
              "#fdca26"
             ],
             [
              1,
              "#f0f921"
             ]
            ],
            "type": "histogram2d"
           }
          ],
          "histogram2dcontour": [
           {
            "colorbar": {
             "outlinewidth": 0,
             "ticks": ""
            },
            "colorscale": [
             [
              0,
              "#0d0887"
             ],
             [
              0.1111111111111111,
              "#46039f"
             ],
             [
              0.2222222222222222,
              "#7201a8"
             ],
             [
              0.3333333333333333,
              "#9c179e"
             ],
             [
              0.4444444444444444,
              "#bd3786"
             ],
             [
              0.5555555555555556,
              "#d8576b"
             ],
             [
              0.6666666666666666,
              "#ed7953"
             ],
             [
              0.7777777777777778,
              "#fb9f3a"
             ],
             [
              0.8888888888888888,
              "#fdca26"
             ],
             [
              1,
              "#f0f921"
             ]
            ],
            "type": "histogram2dcontour"
           }
          ],
          "mesh3d": [
           {
            "colorbar": {
             "outlinewidth": 0,
             "ticks": ""
            },
            "type": "mesh3d"
           }
          ],
          "parcoords": [
           {
            "line": {
             "colorbar": {
              "outlinewidth": 0,
              "ticks": ""
             }
            },
            "type": "parcoords"
           }
          ],
          "pie": [
           {
            "automargin": true,
            "type": "pie"
           }
          ],
          "scatter": [
           {
            "fillpattern": {
             "fillmode": "overlay",
             "size": 10,
             "solidity": 0.2
            },
            "type": "scatter"
           }
          ],
          "scatter3d": [
           {
            "line": {
             "colorbar": {
              "outlinewidth": 0,
              "ticks": ""
             }
            },
            "marker": {
             "colorbar": {
              "outlinewidth": 0,
              "ticks": ""
             }
            },
            "type": "scatter3d"
           }
          ],
          "scattercarpet": [
           {
            "marker": {
             "colorbar": {
              "outlinewidth": 0,
              "ticks": ""
             }
            },
            "type": "scattercarpet"
           }
          ],
          "scattergeo": [
           {
            "marker": {
             "colorbar": {
              "outlinewidth": 0,
              "ticks": ""
             }
            },
            "type": "scattergeo"
           }
          ],
          "scattergl": [
           {
            "marker": {
             "colorbar": {
              "outlinewidth": 0,
              "ticks": ""
             }
            },
            "type": "scattergl"
           }
          ],
          "scattermap": [
           {
            "marker": {
             "colorbar": {
              "outlinewidth": 0,
              "ticks": ""
             }
            },
            "type": "scattermap"
           }
          ],
          "scattermapbox": [
           {
            "marker": {
             "colorbar": {
              "outlinewidth": 0,
              "ticks": ""
             }
            },
            "type": "scattermapbox"
           }
          ],
          "scatterpolar": [
           {
            "marker": {
             "colorbar": {
              "outlinewidth": 0,
              "ticks": ""
             }
            },
            "type": "scatterpolar"
           }
          ],
          "scatterpolargl": [
           {
            "marker": {
             "colorbar": {
              "outlinewidth": 0,
              "ticks": ""
             }
            },
            "type": "scatterpolargl"
           }
          ],
          "scatterternary": [
           {
            "marker": {
             "colorbar": {
              "outlinewidth": 0,
              "ticks": ""
             }
            },
            "type": "scatterternary"
           }
          ],
          "surface": [
           {
            "colorbar": {
             "outlinewidth": 0,
             "ticks": ""
            },
            "colorscale": [
             [
              0,
              "#0d0887"
             ],
             [
              0.1111111111111111,
              "#46039f"
             ],
             [
              0.2222222222222222,
              "#7201a8"
             ],
             [
              0.3333333333333333,
              "#9c179e"
             ],
             [
              0.4444444444444444,
              "#bd3786"
             ],
             [
              0.5555555555555556,
              "#d8576b"
             ],
             [
              0.6666666666666666,
              "#ed7953"
             ],
             [
              0.7777777777777778,
              "#fb9f3a"
             ],
             [
              0.8888888888888888,
              "#fdca26"
             ],
             [
              1,
              "#f0f921"
             ]
            ],
            "type": "surface"
           }
          ],
          "table": [
           {
            "cells": {
             "fill": {
              "color": "#EBF0F8"
             },
             "line": {
              "color": "white"
             }
            },
            "header": {
             "fill": {
              "color": "#C8D4E3"
             },
             "line": {
              "color": "white"
             }
            },
            "type": "table"
           }
          ]
         },
         "layout": {
          "annotationdefaults": {
           "arrowcolor": "#2a3f5f",
           "arrowhead": 0,
           "arrowwidth": 1
          },
          "autotypenumbers": "strict",
          "coloraxis": {
           "colorbar": {
            "outlinewidth": 0,
            "ticks": ""
           }
          },
          "colorscale": {
           "diverging": [
            [
             0,
             "#8e0152"
            ],
            [
             0.1,
             "#c51b7d"
            ],
            [
             0.2,
             "#de77ae"
            ],
            [
             0.3,
             "#f1b6da"
            ],
            [
             0.4,
             "#fde0ef"
            ],
            [
             0.5,
             "#f7f7f7"
            ],
            [
             0.6,
             "#e6f5d0"
            ],
            [
             0.7,
             "#b8e186"
            ],
            [
             0.8,
             "#7fbc41"
            ],
            [
             0.9,
             "#4d9221"
            ],
            [
             1,
             "#276419"
            ]
           ],
           "sequential": [
            [
             0,
             "#0d0887"
            ],
            [
             0.1111111111111111,
             "#46039f"
            ],
            [
             0.2222222222222222,
             "#7201a8"
            ],
            [
             0.3333333333333333,
             "#9c179e"
            ],
            [
             0.4444444444444444,
             "#bd3786"
            ],
            [
             0.5555555555555556,
             "#d8576b"
            ],
            [
             0.6666666666666666,
             "#ed7953"
            ],
            [
             0.7777777777777778,
             "#fb9f3a"
            ],
            [
             0.8888888888888888,
             "#fdca26"
            ],
            [
             1,
             "#f0f921"
            ]
           ],
           "sequentialminus": [
            [
             0,
             "#0d0887"
            ],
            [
             0.1111111111111111,
             "#46039f"
            ],
            [
             0.2222222222222222,
             "#7201a8"
            ],
            [
             0.3333333333333333,
             "#9c179e"
            ],
            [
             0.4444444444444444,
             "#bd3786"
            ],
            [
             0.5555555555555556,
             "#d8576b"
            ],
            [
             0.6666666666666666,
             "#ed7953"
            ],
            [
             0.7777777777777778,
             "#fb9f3a"
            ],
            [
             0.8888888888888888,
             "#fdca26"
            ],
            [
             1,
             "#f0f921"
            ]
           ]
          },
          "colorway": [
           "#636efa",
           "#EF553B",
           "#00cc96",
           "#ab63fa",
           "#FFA15A",
           "#19d3f3",
           "#FF6692",
           "#B6E880",
           "#FF97FF",
           "#FECB52"
          ],
          "font": {
           "color": "#2a3f5f"
          },
          "geo": {
           "bgcolor": "white",
           "lakecolor": "white",
           "landcolor": "#E5ECF6",
           "showlakes": true,
           "showland": true,
           "subunitcolor": "white"
          },
          "hoverlabel": {
           "align": "left"
          },
          "hovermode": "closest",
          "mapbox": {
           "style": "light"
          },
          "paper_bgcolor": "white",
          "plot_bgcolor": "#E5ECF6",
          "polar": {
           "angularaxis": {
            "gridcolor": "white",
            "linecolor": "white",
            "ticks": ""
           },
           "bgcolor": "#E5ECF6",
           "radialaxis": {
            "gridcolor": "white",
            "linecolor": "white",
            "ticks": ""
           }
          },
          "scene": {
           "xaxis": {
            "backgroundcolor": "#E5ECF6",
            "gridcolor": "white",
            "gridwidth": 2,
            "linecolor": "white",
            "showbackground": true,
            "ticks": "",
            "zerolinecolor": "white"
           },
           "yaxis": {
            "backgroundcolor": "#E5ECF6",
            "gridcolor": "white",
            "gridwidth": 2,
            "linecolor": "white",
            "showbackground": true,
            "ticks": "",
            "zerolinecolor": "white"
           },
           "zaxis": {
            "backgroundcolor": "#E5ECF6",
            "gridcolor": "white",
            "gridwidth": 2,
            "linecolor": "white",
            "showbackground": true,
            "ticks": "",
            "zerolinecolor": "white"
           }
          },
          "shapedefaults": {
           "line": {
            "color": "#2a3f5f"
           }
          },
          "ternary": {
           "aaxis": {
            "gridcolor": "white",
            "linecolor": "white",
            "ticks": ""
           },
           "baxis": {
            "gridcolor": "white",
            "linecolor": "white",
            "ticks": ""
           },
           "bgcolor": "#E5ECF6",
           "caxis": {
            "gridcolor": "white",
            "linecolor": "white",
            "ticks": ""
           }
          },
          "title": {
           "x": 0.05
          },
          "xaxis": {
           "automargin": true,
           "gridcolor": "white",
           "linecolor": "white",
           "ticks": "",
           "title": {
            "standoff": 15
           },
           "zerolinecolor": "white",
           "zerolinewidth": 2
          },
          "yaxis": {
           "automargin": true,
           "gridcolor": "white",
           "linecolor": "white",
           "ticks": "",
           "title": {
            "standoff": 15
           },
           "zerolinecolor": "white",
           "zerolinewidth": 2
          }
         }
        },
        "title": {
         "text": "Balance of Fraud"
        },
        "xaxis": {
         "anchor": "y",
         "domain": [
          0,
          1
         ],
         "title": {
          "text": "x"
         }
        },
        "yaxis": {
         "anchor": "x",
         "domain": [
          0,
          1
         ],
         "title": {
          "text": "y"
         }
        }
       }
      }
     },
     "metadata": {},
     "output_type": "display_data"
    }
   ],
   "source": [
    "fraud_count = df['Class'].value_counts().sort_index()\n",
    "fig = px.bar(x = fraud_count.values, y = fraud_count.index, title = 'Balance of Fraud', orientation='h')\n",
    "fig.update_layout(height = 300)\n",
    "fig.show()"
   ]
  },
  {
   "cell_type": "markdown",
   "id": "7bf8b726",
   "metadata": {},
   "source": [
    "# Stratify Splitting for the data"
   ]
  },
  {
   "cell_type": "code",
   "execution_count": 61,
   "id": "4ee7cbb6",
   "metadata": {},
   "outputs": [
    {
     "name": "stdout",
     "output_type": "stream",
     "text": [
      "Original Ratio =  Class\n",
      "0    0.998273\n",
      "1    0.001727\n",
      "Name: proportion, dtype: float64\n",
      "Train Ratio =  Class\n",
      "0    0.998271\n",
      "1    0.001729\n",
      "Name: proportion, dtype: float64\n",
      "Test Ratio =  Class\n",
      "0    0.99828\n",
      "1    0.00172\n",
      "Name: proportion, dtype: float64\n"
     ]
    }
   ],
   "source": [
    "x = df.drop('Class', axis=1)\n",
    "y = df['Class']\n",
    "\n",
    "x_train, x_test, y_train, y_test = train_test_split(x, y, test_size = 0.2, stratify = y, random_state = 42)\n",
    "\n",
    "print('Original Ratio = ', y.value_counts(normalize=True))\n",
    "print('Train Ratio = ', y_train.value_counts(normalize=True))\n",
    "print('Test Ratio = ', y_test.value_counts(normalize=True))"
   ]
  },
  {
   "cell_type": "markdown",
   "id": "4b0138da",
   "metadata": {},
   "source": [
    "# Resampling"
   ]
  },
  {
   "cell_type": "code",
   "execution_count": 62,
   "id": "ffeb16ce",
   "metadata": {},
   "outputs": [
    {
     "name": "stderr",
     "output_type": "stream",
     "text": [
      "d:\\Just Data\\Global_env\\Lib\\site-packages\\sklearn\\base.py:474: FutureWarning:\n",
      "\n",
      "`BaseEstimator._validate_data` is deprecated in 1.6 and will be removed in 1.7. Use `sklearn.utils.validation.validate_data` instead. This function becomes public and is part of the scikit-learn developer API.\n",
      "\n",
      "d:\\Just Data\\Global_env\\Lib\\site-packages\\sklearn\\base.py:474: FutureWarning:\n",
      "\n",
      "`BaseEstimator._validate_data` is deprecated in 1.6 and will be removed in 1.7. Use `sklearn.utils.validation.validate_data` instead. This function becomes public and is part of the scikit-learn developer API.\n",
      "\n"
     ]
    },
    {
     "name": "stdout",
     "output_type": "stream",
     "text": [
      "Original Distribution:  Class\n",
      "0    227451\n",
      "1       394\n",
      "Name: count, dtype: int64\n",
      "Resampled Distribution Class\n",
      "0    113725\n",
      "1    113725\n",
      "Name: count, dtype: int64\n"
     ]
    }
   ],
   "source": [
    "smote = SMOTE(sampling_strategy = 0.5, random_state=42)\n",
    "x_upsampled, y_upsampled = smote.fit_resample(x_train, y_train)\n",
    "\n",
    "nearmiss = NearMiss(sampling_strategy='auto')\n",
    "x_resampled, y_resampled = nearmiss.fit_resample(x_upsampled, y_upsampled)\n",
    "\n",
    "print('Original Distribution: ', y_train.value_counts())\n",
    "print('Resampled Distribution', y_resampled.value_counts())"
   ]
  },
  {
   "cell_type": "code",
   "execution_count": 63,
   "id": "9ddb0725",
   "metadata": {},
   "outputs": [
    {
     "data": {
      "application/vnd.plotly.v1+json": {
       "config": {
        "plotlyServerURL": "https://plot.ly"
       },
       "data": [
        {
         "hovertemplate": "x=%{x}<br>y=%{y}<extra></extra>",
         "legendgroup": "",
         "marker": {
          "color": "#636efa",
          "pattern": {
           "shape": ""
          }
         },
         "name": "",
         "orientation": "h",
         "showlegend": false,
         "textposition": "auto",
         "type": "bar",
         "x": {
          "bdata": "PbwBAD28AQA=",
          "dtype": "i4"
         },
         "xaxis": "x",
         "y": {
          "bdata": "AAE=",
          "dtype": "i1"
         },
         "yaxis": "y"
        }
       ],
       "layout": {
        "barmode": "relative",
        "height": 300,
        "legend": {
         "tracegroupgap": 0
        },
        "template": {
         "data": {
          "bar": [
           {
            "error_x": {
             "color": "#2a3f5f"
            },
            "error_y": {
             "color": "#2a3f5f"
            },
            "marker": {
             "line": {
              "color": "#E5ECF6",
              "width": 0.5
             },
             "pattern": {
              "fillmode": "overlay",
              "size": 10,
              "solidity": 0.2
             }
            },
            "type": "bar"
           }
          ],
          "barpolar": [
           {
            "marker": {
             "line": {
              "color": "#E5ECF6",
              "width": 0.5
             },
             "pattern": {
              "fillmode": "overlay",
              "size": 10,
              "solidity": 0.2
             }
            },
            "type": "barpolar"
           }
          ],
          "carpet": [
           {
            "aaxis": {
             "endlinecolor": "#2a3f5f",
             "gridcolor": "white",
             "linecolor": "white",
             "minorgridcolor": "white",
             "startlinecolor": "#2a3f5f"
            },
            "baxis": {
             "endlinecolor": "#2a3f5f",
             "gridcolor": "white",
             "linecolor": "white",
             "minorgridcolor": "white",
             "startlinecolor": "#2a3f5f"
            },
            "type": "carpet"
           }
          ],
          "choropleth": [
           {
            "colorbar": {
             "outlinewidth": 0,
             "ticks": ""
            },
            "type": "choropleth"
           }
          ],
          "contour": [
           {
            "colorbar": {
             "outlinewidth": 0,
             "ticks": ""
            },
            "colorscale": [
             [
              0,
              "#0d0887"
             ],
             [
              0.1111111111111111,
              "#46039f"
             ],
             [
              0.2222222222222222,
              "#7201a8"
             ],
             [
              0.3333333333333333,
              "#9c179e"
             ],
             [
              0.4444444444444444,
              "#bd3786"
             ],
             [
              0.5555555555555556,
              "#d8576b"
             ],
             [
              0.6666666666666666,
              "#ed7953"
             ],
             [
              0.7777777777777778,
              "#fb9f3a"
             ],
             [
              0.8888888888888888,
              "#fdca26"
             ],
             [
              1,
              "#f0f921"
             ]
            ],
            "type": "contour"
           }
          ],
          "contourcarpet": [
           {
            "colorbar": {
             "outlinewidth": 0,
             "ticks": ""
            },
            "type": "contourcarpet"
           }
          ],
          "heatmap": [
           {
            "colorbar": {
             "outlinewidth": 0,
             "ticks": ""
            },
            "colorscale": [
             [
              0,
              "#0d0887"
             ],
             [
              0.1111111111111111,
              "#46039f"
             ],
             [
              0.2222222222222222,
              "#7201a8"
             ],
             [
              0.3333333333333333,
              "#9c179e"
             ],
             [
              0.4444444444444444,
              "#bd3786"
             ],
             [
              0.5555555555555556,
              "#d8576b"
             ],
             [
              0.6666666666666666,
              "#ed7953"
             ],
             [
              0.7777777777777778,
              "#fb9f3a"
             ],
             [
              0.8888888888888888,
              "#fdca26"
             ],
             [
              1,
              "#f0f921"
             ]
            ],
            "type": "heatmap"
           }
          ],
          "histogram": [
           {
            "marker": {
             "pattern": {
              "fillmode": "overlay",
              "size": 10,
              "solidity": 0.2
             }
            },
            "type": "histogram"
           }
          ],
          "histogram2d": [
           {
            "colorbar": {
             "outlinewidth": 0,
             "ticks": ""
            },
            "colorscale": [
             [
              0,
              "#0d0887"
             ],
             [
              0.1111111111111111,
              "#46039f"
             ],
             [
              0.2222222222222222,
              "#7201a8"
             ],
             [
              0.3333333333333333,
              "#9c179e"
             ],
             [
              0.4444444444444444,
              "#bd3786"
             ],
             [
              0.5555555555555556,
              "#d8576b"
             ],
             [
              0.6666666666666666,
              "#ed7953"
             ],
             [
              0.7777777777777778,
              "#fb9f3a"
             ],
             [
              0.8888888888888888,
              "#fdca26"
             ],
             [
              1,
              "#f0f921"
             ]
            ],
            "type": "histogram2d"
           }
          ],
          "histogram2dcontour": [
           {
            "colorbar": {
             "outlinewidth": 0,
             "ticks": ""
            },
            "colorscale": [
             [
              0,
              "#0d0887"
             ],
             [
              0.1111111111111111,
              "#46039f"
             ],
             [
              0.2222222222222222,
              "#7201a8"
             ],
             [
              0.3333333333333333,
              "#9c179e"
             ],
             [
              0.4444444444444444,
              "#bd3786"
             ],
             [
              0.5555555555555556,
              "#d8576b"
             ],
             [
              0.6666666666666666,
              "#ed7953"
             ],
             [
              0.7777777777777778,
              "#fb9f3a"
             ],
             [
              0.8888888888888888,
              "#fdca26"
             ],
             [
              1,
              "#f0f921"
             ]
            ],
            "type": "histogram2dcontour"
           }
          ],
          "mesh3d": [
           {
            "colorbar": {
             "outlinewidth": 0,
             "ticks": ""
            },
            "type": "mesh3d"
           }
          ],
          "parcoords": [
           {
            "line": {
             "colorbar": {
              "outlinewidth": 0,
              "ticks": ""
             }
            },
            "type": "parcoords"
           }
          ],
          "pie": [
           {
            "automargin": true,
            "type": "pie"
           }
          ],
          "scatter": [
           {
            "fillpattern": {
             "fillmode": "overlay",
             "size": 10,
             "solidity": 0.2
            },
            "type": "scatter"
           }
          ],
          "scatter3d": [
           {
            "line": {
             "colorbar": {
              "outlinewidth": 0,
              "ticks": ""
             }
            },
            "marker": {
             "colorbar": {
              "outlinewidth": 0,
              "ticks": ""
             }
            },
            "type": "scatter3d"
           }
          ],
          "scattercarpet": [
           {
            "marker": {
             "colorbar": {
              "outlinewidth": 0,
              "ticks": ""
             }
            },
            "type": "scattercarpet"
           }
          ],
          "scattergeo": [
           {
            "marker": {
             "colorbar": {
              "outlinewidth": 0,
              "ticks": ""
             }
            },
            "type": "scattergeo"
           }
          ],
          "scattergl": [
           {
            "marker": {
             "colorbar": {
              "outlinewidth": 0,
              "ticks": ""
             }
            },
            "type": "scattergl"
           }
          ],
          "scattermap": [
           {
            "marker": {
             "colorbar": {
              "outlinewidth": 0,
              "ticks": ""
             }
            },
            "type": "scattermap"
           }
          ],
          "scattermapbox": [
           {
            "marker": {
             "colorbar": {
              "outlinewidth": 0,
              "ticks": ""
             }
            },
            "type": "scattermapbox"
           }
          ],
          "scatterpolar": [
           {
            "marker": {
             "colorbar": {
              "outlinewidth": 0,
              "ticks": ""
             }
            },
            "type": "scatterpolar"
           }
          ],
          "scatterpolargl": [
           {
            "marker": {
             "colorbar": {
              "outlinewidth": 0,
              "ticks": ""
             }
            },
            "type": "scatterpolargl"
           }
          ],
          "scatterternary": [
           {
            "marker": {
             "colorbar": {
              "outlinewidth": 0,
              "ticks": ""
             }
            },
            "type": "scatterternary"
           }
          ],
          "surface": [
           {
            "colorbar": {
             "outlinewidth": 0,
             "ticks": ""
            },
            "colorscale": [
             [
              0,
              "#0d0887"
             ],
             [
              0.1111111111111111,
              "#46039f"
             ],
             [
              0.2222222222222222,
              "#7201a8"
             ],
             [
              0.3333333333333333,
              "#9c179e"
             ],
             [
              0.4444444444444444,
              "#bd3786"
             ],
             [
              0.5555555555555556,
              "#d8576b"
             ],
             [
              0.6666666666666666,
              "#ed7953"
             ],
             [
              0.7777777777777778,
              "#fb9f3a"
             ],
             [
              0.8888888888888888,
              "#fdca26"
             ],
             [
              1,
              "#f0f921"
             ]
            ],
            "type": "surface"
           }
          ],
          "table": [
           {
            "cells": {
             "fill": {
              "color": "#EBF0F8"
             },
             "line": {
              "color": "white"
             }
            },
            "header": {
             "fill": {
              "color": "#C8D4E3"
             },
             "line": {
              "color": "white"
             }
            },
            "type": "table"
           }
          ]
         },
         "layout": {
          "annotationdefaults": {
           "arrowcolor": "#2a3f5f",
           "arrowhead": 0,
           "arrowwidth": 1
          },
          "autotypenumbers": "strict",
          "coloraxis": {
           "colorbar": {
            "outlinewidth": 0,
            "ticks": ""
           }
          },
          "colorscale": {
           "diverging": [
            [
             0,
             "#8e0152"
            ],
            [
             0.1,
             "#c51b7d"
            ],
            [
             0.2,
             "#de77ae"
            ],
            [
             0.3,
             "#f1b6da"
            ],
            [
             0.4,
             "#fde0ef"
            ],
            [
             0.5,
             "#f7f7f7"
            ],
            [
             0.6,
             "#e6f5d0"
            ],
            [
             0.7,
             "#b8e186"
            ],
            [
             0.8,
             "#7fbc41"
            ],
            [
             0.9,
             "#4d9221"
            ],
            [
             1,
             "#276419"
            ]
           ],
           "sequential": [
            [
             0,
             "#0d0887"
            ],
            [
             0.1111111111111111,
             "#46039f"
            ],
            [
             0.2222222222222222,
             "#7201a8"
            ],
            [
             0.3333333333333333,
             "#9c179e"
            ],
            [
             0.4444444444444444,
             "#bd3786"
            ],
            [
             0.5555555555555556,
             "#d8576b"
            ],
            [
             0.6666666666666666,
             "#ed7953"
            ],
            [
             0.7777777777777778,
             "#fb9f3a"
            ],
            [
             0.8888888888888888,
             "#fdca26"
            ],
            [
             1,
             "#f0f921"
            ]
           ],
           "sequentialminus": [
            [
             0,
             "#0d0887"
            ],
            [
             0.1111111111111111,
             "#46039f"
            ],
            [
             0.2222222222222222,
             "#7201a8"
            ],
            [
             0.3333333333333333,
             "#9c179e"
            ],
            [
             0.4444444444444444,
             "#bd3786"
            ],
            [
             0.5555555555555556,
             "#d8576b"
            ],
            [
             0.6666666666666666,
             "#ed7953"
            ],
            [
             0.7777777777777778,
             "#fb9f3a"
            ],
            [
             0.8888888888888888,
             "#fdca26"
            ],
            [
             1,
             "#f0f921"
            ]
           ]
          },
          "colorway": [
           "#636efa",
           "#EF553B",
           "#00cc96",
           "#ab63fa",
           "#FFA15A",
           "#19d3f3",
           "#FF6692",
           "#B6E880",
           "#FF97FF",
           "#FECB52"
          ],
          "font": {
           "color": "#2a3f5f"
          },
          "geo": {
           "bgcolor": "white",
           "lakecolor": "white",
           "landcolor": "#E5ECF6",
           "showlakes": true,
           "showland": true,
           "subunitcolor": "white"
          },
          "hoverlabel": {
           "align": "left"
          },
          "hovermode": "closest",
          "mapbox": {
           "style": "light"
          },
          "paper_bgcolor": "white",
          "plot_bgcolor": "#E5ECF6",
          "polar": {
           "angularaxis": {
            "gridcolor": "white",
            "linecolor": "white",
            "ticks": ""
           },
           "bgcolor": "#E5ECF6",
           "radialaxis": {
            "gridcolor": "white",
            "linecolor": "white",
            "ticks": ""
           }
          },
          "scene": {
           "xaxis": {
            "backgroundcolor": "#E5ECF6",
            "gridcolor": "white",
            "gridwidth": 2,
            "linecolor": "white",
            "showbackground": true,
            "ticks": "",
            "zerolinecolor": "white"
           },
           "yaxis": {
            "backgroundcolor": "#E5ECF6",
            "gridcolor": "white",
            "gridwidth": 2,
            "linecolor": "white",
            "showbackground": true,
            "ticks": "",
            "zerolinecolor": "white"
           },
           "zaxis": {
            "backgroundcolor": "#E5ECF6",
            "gridcolor": "white",
            "gridwidth": 2,
            "linecolor": "white",
            "showbackground": true,
            "ticks": "",
            "zerolinecolor": "white"
           }
          },
          "shapedefaults": {
           "line": {
            "color": "#2a3f5f"
           }
          },
          "ternary": {
           "aaxis": {
            "gridcolor": "white",
            "linecolor": "white",
            "ticks": ""
           },
           "baxis": {
            "gridcolor": "white",
            "linecolor": "white",
            "ticks": ""
           },
           "bgcolor": "#E5ECF6",
           "caxis": {
            "gridcolor": "white",
            "linecolor": "white",
            "ticks": ""
           }
          },
          "title": {
           "x": 0.05
          },
          "xaxis": {
           "automargin": true,
           "gridcolor": "white",
           "linecolor": "white",
           "ticks": "",
           "title": {
            "standoff": 15
           },
           "zerolinecolor": "white",
           "zerolinewidth": 2
          },
          "yaxis": {
           "automargin": true,
           "gridcolor": "white",
           "linecolor": "white",
           "ticks": "",
           "title": {
            "standoff": 15
           },
           "zerolinecolor": "white",
           "zerolinewidth": 2
          }
         }
        },
        "title": {
         "text": "Balance of Fraud"
        },
        "xaxis": {
         "anchor": "y",
         "domain": [
          0,
          1
         ],
         "title": {
          "text": "x"
         }
        },
        "yaxis": {
         "anchor": "x",
         "domain": [
          0,
          1
         ],
         "title": {
          "text": "y"
         }
        }
       }
      }
     },
     "metadata": {},
     "output_type": "display_data"
    }
   ],
   "source": [
    "fraud_count = y_resampled.value_counts().sort_index()\n",
    "fig = px.bar(x = fraud_count.values, y = fraud_count.index, title = 'Balance of Fraud', orientation='h')\n",
    "fig.update_layout(height = 300)\n",
    "fig.show()"
   ]
  },
  {
   "cell_type": "markdown",
   "id": "449cd9c5",
   "metadata": {},
   "source": [
    "# Scaling"
   ]
  },
  {
   "cell_type": "code",
   "execution_count": 64,
   "id": "11852301",
   "metadata": {},
   "outputs": [
    {
     "data": {
      "text/html": [
       "<div>\n",
       "<style scoped>\n",
       "    .dataframe tbody tr th:only-of-type {\n",
       "        vertical-align: middle;\n",
       "    }\n",
       "\n",
       "    .dataframe tbody tr th {\n",
       "        vertical-align: top;\n",
       "    }\n",
       "\n",
       "    .dataframe thead th {\n",
       "        text-align: right;\n",
       "    }\n",
       "</style>\n",
       "<table border=\"1\" class=\"dataframe\">\n",
       "  <thead>\n",
       "    <tr style=\"text-align: right;\">\n",
       "      <th></th>\n",
       "      <th>Time</th>\n",
       "      <th>V1</th>\n",
       "      <th>V2</th>\n",
       "      <th>V3</th>\n",
       "      <th>V4</th>\n",
       "      <th>V5</th>\n",
       "      <th>V6</th>\n",
       "      <th>V7</th>\n",
       "      <th>V8</th>\n",
       "      <th>V9</th>\n",
       "      <th>...</th>\n",
       "      <th>V20</th>\n",
       "      <th>V21</th>\n",
       "      <th>V22</th>\n",
       "      <th>V23</th>\n",
       "      <th>V24</th>\n",
       "      <th>V25</th>\n",
       "      <th>V26</th>\n",
       "      <th>V27</th>\n",
       "      <th>V28</th>\n",
       "      <th>Amount</th>\n",
       "    </tr>\n",
       "  </thead>\n",
       "  <tbody>\n",
       "    <tr>\n",
       "      <th>count</th>\n",
       "      <td>227450.000000</td>\n",
       "      <td>227450.000000</td>\n",
       "      <td>227450.000000</td>\n",
       "      <td>227450.000000</td>\n",
       "      <td>227450.000000</td>\n",
       "      <td>227450.000000</td>\n",
       "      <td>227450.000000</td>\n",
       "      <td>227450.000000</td>\n",
       "      <td>227450.000000</td>\n",
       "      <td>227450.000000</td>\n",
       "      <td>...</td>\n",
       "      <td>227450.000000</td>\n",
       "      <td>227450.000000</td>\n",
       "      <td>227450.000000</td>\n",
       "      <td>227450.000000</td>\n",
       "      <td>227450.000000</td>\n",
       "      <td>227450.000000</td>\n",
       "      <td>227450.000000</td>\n",
       "      <td>227450.000000</td>\n",
       "      <td>227450.000000</td>\n",
       "      <td>227450.00000</td>\n",
       "    </tr>\n",
       "    <tr>\n",
       "      <th>mean</th>\n",
       "      <td>92207.078999</td>\n",
       "      <td>-2.374655</td>\n",
       "      <td>2.005514</td>\n",
       "      <td>-3.652728</td>\n",
       "      <td>2.327745</td>\n",
       "      <td>-1.547068</td>\n",
       "      <td>-0.753205</td>\n",
       "      <td>-2.921005</td>\n",
       "      <td>0.363204</td>\n",
       "      <td>-1.347795</td>\n",
       "      <td>...</td>\n",
       "      <td>0.150190</td>\n",
       "      <td>0.321123</td>\n",
       "      <td>0.024979</td>\n",
       "      <td>-0.019451</td>\n",
       "      <td>-0.050445</td>\n",
       "      <td>0.006540</td>\n",
       "      <td>0.024019</td>\n",
       "      <td>0.078730</td>\n",
       "      <td>0.037806</td>\n",
       "      <td>71.22865</td>\n",
       "    </tr>\n",
       "    <tr>\n",
       "      <th>std</th>\n",
       "      <td>47252.730813</td>\n",
       "      <td>5.458547</td>\n",
       "      <td>3.455735</td>\n",
       "      <td>6.191598</td>\n",
       "      <td>3.161150</td>\n",
       "      <td>4.132506</td>\n",
       "      <td>1.636388</td>\n",
       "      <td>5.653522</td>\n",
       "      <td>4.609055</td>\n",
       "      <td>2.190267</td>\n",
       "      <td>...</td>\n",
       "      <td>0.947286</td>\n",
       "      <td>2.517321</td>\n",
       "      <td>1.078611</td>\n",
       "      <td>0.991756</td>\n",
       "      <td>0.537143</td>\n",
       "      <td>0.626687</td>\n",
       "      <td>0.435436</td>\n",
       "      <td>0.918736</td>\n",
       "      <td>0.393738</td>\n",
       "      <td>147.86424</td>\n",
       "    </tr>\n",
       "    <tr>\n",
       "      <th>min</th>\n",
       "      <td>4462.000000</td>\n",
       "      <td>-32.962810</td>\n",
       "      <td>-18.992015</td>\n",
       "      <td>-32.965346</td>\n",
       "      <td>-5.560118</td>\n",
       "      <td>-23.505167</td>\n",
       "      <td>-10.908778</td>\n",
       "      <td>-43.557242</td>\n",
       "      <td>-41.044261</td>\n",
       "      <td>-13.434066</td>\n",
       "      <td>...</td>\n",
       "      <td>-12.425404</td>\n",
       "      <td>-22.797604</td>\n",
       "      <td>-8.887017</td>\n",
       "      <td>-19.254328</td>\n",
       "      <td>-2.822684</td>\n",
       "      <td>-4.781606</td>\n",
       "      <td>-1.697018</td>\n",
       "      <td>-9.895244</td>\n",
       "      <td>-8.478686</td>\n",
       "      <td>0.00000</td>\n",
       "    </tr>\n",
       "    <tr>\n",
       "      <th>25%</th>\n",
       "      <td>50746.587249</td>\n",
       "      <td>-2.864274</td>\n",
       "      <td>0.012518</td>\n",
       "      <td>-5.225366</td>\n",
       "      <td>-0.055823</td>\n",
       "      <td>-1.723633</td>\n",
       "      <td>-1.538563</td>\n",
       "      <td>-3.210508</td>\n",
       "      <td>-0.181997</td>\n",
       "      <td>-2.314117</td>\n",
       "      <td>...</td>\n",
       "      <td>-0.203664</td>\n",
       "      <td>-0.168003</td>\n",
       "      <td>-0.484979</td>\n",
       "      <td>-0.199721</td>\n",
       "      <td>-0.380214</td>\n",
       "      <td>-0.314716</td>\n",
       "      <td>-0.263125</td>\n",
       "      <td>-0.061764</td>\n",
       "      <td>-0.058364</td>\n",
       "      <td>2.84000</td>\n",
       "    </tr>\n",
       "    <tr>\n",
       "      <th>50%</th>\n",
       "      <td>85266.670378</td>\n",
       "      <td>-0.746370</td>\n",
       "      <td>1.062370</td>\n",
       "      <td>-1.523102</td>\n",
       "      <td>1.452540</td>\n",
       "      <td>-0.355694</td>\n",
       "      <td>-0.708473</td>\n",
       "      <td>-0.736132</td>\n",
       "      <td>0.184907</td>\n",
       "      <td>-0.808305</td>\n",
       "      <td>...</td>\n",
       "      <td>0.005966</td>\n",
       "      <td>0.147003</td>\n",
       "      <td>0.034894</td>\n",
       "      <td>-0.016462</td>\n",
       "      <td>-0.004187</td>\n",
       "      <td>0.028201</td>\n",
       "      <td>-0.003823</td>\n",
       "      <td>0.060181</td>\n",
       "      <td>0.033212</td>\n",
       "      <td>19.75000</td>\n",
       "    </tr>\n",
       "    <tr>\n",
       "      <th>75%</th>\n",
       "      <td>138989.977654</td>\n",
       "      <td>0.950750</td>\n",
       "      <td>2.836866</td>\n",
       "      <td>0.246240</td>\n",
       "      <td>4.359749</td>\n",
       "      <td>0.503840</td>\n",
       "      <td>-0.023479</td>\n",
       "      <td>0.171879</td>\n",
       "      <td>0.875784</td>\n",
       "      <td>0.044178</td>\n",
       "      <td>...</td>\n",
       "      <td>0.371213</td>\n",
       "      <td>0.620656</td>\n",
       "      <td>0.539158</td>\n",
       "      <td>0.186939</td>\n",
       "      <td>0.348324</td>\n",
       "      <td>0.356190</td>\n",
       "      <td>0.281298</td>\n",
       "      <td>0.425433</td>\n",
       "      <td>0.210262</td>\n",
       "      <td>73.58954</td>\n",
       "    </tr>\n",
       "    <tr>\n",
       "      <th>max</th>\n",
       "      <td>170380.000000</td>\n",
       "      <td>2.451888</td>\n",
       "      <td>22.057729</td>\n",
       "      <td>4.187811</td>\n",
       "      <td>12.114672</td>\n",
       "      <td>16.238056</td>\n",
       "      <td>8.933762</td>\n",
       "      <td>6.755575</td>\n",
       "      <td>20.007208</td>\n",
       "      <td>9.234623</td>\n",
       "      <td>...</td>\n",
       "      <td>11.059004</td>\n",
       "      <td>27.202839</td>\n",
       "      <td>8.361985</td>\n",
       "      <td>15.093942</td>\n",
       "      <td>4.014444</td>\n",
       "      <td>4.747061</td>\n",
       "      <td>3.119295</td>\n",
       "      <td>5.417347</td>\n",
       "      <td>15.942151</td>\n",
       "      <td>2125.87000</td>\n",
       "    </tr>\n",
       "  </tbody>\n",
       "</table>\n",
       "<p>8 rows × 30 columns</p>\n",
       "</div>"
      ],
      "text/plain": [
       "                Time             V1             V2             V3  \\\n",
       "count  227450.000000  227450.000000  227450.000000  227450.000000   \n",
       "mean    92207.078999      -2.374655       2.005514      -3.652728   \n",
       "std     47252.730813       5.458547       3.455735       6.191598   \n",
       "min      4462.000000     -32.962810     -18.992015     -32.965346   \n",
       "25%     50746.587249      -2.864274       0.012518      -5.225366   \n",
       "50%     85266.670378      -0.746370       1.062370      -1.523102   \n",
       "75%    138989.977654       0.950750       2.836866       0.246240   \n",
       "max    170380.000000       2.451888      22.057729       4.187811   \n",
       "\n",
       "                  V4             V5             V6             V7  \\\n",
       "count  227450.000000  227450.000000  227450.000000  227450.000000   \n",
       "mean        2.327745      -1.547068      -0.753205      -2.921005   \n",
       "std         3.161150       4.132506       1.636388       5.653522   \n",
       "min        -5.560118     -23.505167     -10.908778     -43.557242   \n",
       "25%        -0.055823      -1.723633      -1.538563      -3.210508   \n",
       "50%         1.452540      -0.355694      -0.708473      -0.736132   \n",
       "75%         4.359749       0.503840      -0.023479       0.171879   \n",
       "max        12.114672      16.238056       8.933762       6.755575   \n",
       "\n",
       "                  V8             V9  ...            V20            V21  \\\n",
       "count  227450.000000  227450.000000  ...  227450.000000  227450.000000   \n",
       "mean        0.363204      -1.347795  ...       0.150190       0.321123   \n",
       "std         4.609055       2.190267  ...       0.947286       2.517321   \n",
       "min       -41.044261     -13.434066  ...     -12.425404     -22.797604   \n",
       "25%        -0.181997      -2.314117  ...      -0.203664      -0.168003   \n",
       "50%         0.184907      -0.808305  ...       0.005966       0.147003   \n",
       "75%         0.875784       0.044178  ...       0.371213       0.620656   \n",
       "max        20.007208       9.234623  ...      11.059004      27.202839   \n",
       "\n",
       "                 V22            V23            V24            V25  \\\n",
       "count  227450.000000  227450.000000  227450.000000  227450.000000   \n",
       "mean        0.024979      -0.019451      -0.050445       0.006540   \n",
       "std         1.078611       0.991756       0.537143       0.626687   \n",
       "min        -8.887017     -19.254328      -2.822684      -4.781606   \n",
       "25%        -0.484979      -0.199721      -0.380214      -0.314716   \n",
       "50%         0.034894      -0.016462      -0.004187       0.028201   \n",
       "75%         0.539158       0.186939       0.348324       0.356190   \n",
       "max         8.361985      15.093942       4.014444       4.747061   \n",
       "\n",
       "                 V26            V27            V28        Amount  \n",
       "count  227450.000000  227450.000000  227450.000000  227450.00000  \n",
       "mean        0.024019       0.078730       0.037806      71.22865  \n",
       "std         0.435436       0.918736       0.393738     147.86424  \n",
       "min        -1.697018      -9.895244      -8.478686       0.00000  \n",
       "25%        -0.263125      -0.061764      -0.058364       2.84000  \n",
       "50%        -0.003823       0.060181       0.033212      19.75000  \n",
       "75%         0.281298       0.425433       0.210262      73.58954  \n",
       "max         3.119295       5.417347      15.942151    2125.87000  \n",
       "\n",
       "[8 rows x 30 columns]"
      ]
     },
     "execution_count": 64,
     "metadata": {},
     "output_type": "execute_result"
    }
   ],
   "source": [
    "x_resampled.describe()"
   ]
  },
  {
   "cell_type": "code",
   "execution_count": 65,
   "id": "aefdc397",
   "metadata": {},
   "outputs": [],
   "source": [
    "x_resampled.drop(columns='Time', inplace=True)\n",
    "x_test.drop(columns='Time', inplace=True)"
   ]
  },
  {
   "cell_type": "code",
   "execution_count": 66,
   "id": "445d36df",
   "metadata": {},
   "outputs": [],
   "source": [
    "scaler = MinMaxScaler()\n",
    "x_resampled['Amount'] = scaler.fit_transform(x_resampled[['Amount']])\n",
    "x_test['Amount'] = scaler.fit_transform(x_test[['Amount']])"
   ]
  },
  {
   "cell_type": "code",
   "execution_count": 67,
   "id": "378bcc16",
   "metadata": {},
   "outputs": [
    {
     "data": {
      "text/html": [
       "<div>\n",
       "<style scoped>\n",
       "    .dataframe tbody tr th:only-of-type {\n",
       "        vertical-align: middle;\n",
       "    }\n",
       "\n",
       "    .dataframe tbody tr th {\n",
       "        vertical-align: top;\n",
       "    }\n",
       "\n",
       "    .dataframe thead th {\n",
       "        text-align: right;\n",
       "    }\n",
       "</style>\n",
       "<table border=\"1\" class=\"dataframe\">\n",
       "  <thead>\n",
       "    <tr style=\"text-align: right;\">\n",
       "      <th></th>\n",
       "      <th>V1</th>\n",
       "      <th>V2</th>\n",
       "      <th>V3</th>\n",
       "      <th>V4</th>\n",
       "      <th>V5</th>\n",
       "      <th>V6</th>\n",
       "      <th>V7</th>\n",
       "      <th>V8</th>\n",
       "      <th>V9</th>\n",
       "      <th>V10</th>\n",
       "      <th>...</th>\n",
       "      <th>V20</th>\n",
       "      <th>V21</th>\n",
       "      <th>V22</th>\n",
       "      <th>V23</th>\n",
       "      <th>V24</th>\n",
       "      <th>V25</th>\n",
       "      <th>V26</th>\n",
       "      <th>V27</th>\n",
       "      <th>V28</th>\n",
       "      <th>Amount</th>\n",
       "    </tr>\n",
       "  </thead>\n",
       "  <tbody>\n",
       "    <tr>\n",
       "      <th>count</th>\n",
       "      <td>227450.000000</td>\n",
       "      <td>227450.000000</td>\n",
       "      <td>227450.000000</td>\n",
       "      <td>227450.000000</td>\n",
       "      <td>227450.000000</td>\n",
       "      <td>227450.000000</td>\n",
       "      <td>227450.000000</td>\n",
       "      <td>227450.000000</td>\n",
       "      <td>227450.000000</td>\n",
       "      <td>227450.000000</td>\n",
       "      <td>...</td>\n",
       "      <td>227450.000000</td>\n",
       "      <td>227450.000000</td>\n",
       "      <td>227450.000000</td>\n",
       "      <td>227450.000000</td>\n",
       "      <td>227450.000000</td>\n",
       "      <td>227450.000000</td>\n",
       "      <td>227450.000000</td>\n",
       "      <td>227450.000000</td>\n",
       "      <td>227450.000000</td>\n",
       "      <td>227450.000000</td>\n",
       "    </tr>\n",
       "    <tr>\n",
       "      <th>mean</th>\n",
       "      <td>-2.374655</td>\n",
       "      <td>2.005514</td>\n",
       "      <td>-3.652728</td>\n",
       "      <td>2.327745</td>\n",
       "      <td>-1.547068</td>\n",
       "      <td>-0.753205</td>\n",
       "      <td>-2.921005</td>\n",
       "      <td>0.363204</td>\n",
       "      <td>-1.347795</td>\n",
       "      <td>-2.875675</td>\n",
       "      <td>...</td>\n",
       "      <td>0.150190</td>\n",
       "      <td>0.321123</td>\n",
       "      <td>0.024979</td>\n",
       "      <td>-0.019451</td>\n",
       "      <td>-0.050445</td>\n",
       "      <td>0.006540</td>\n",
       "      <td>0.024019</td>\n",
       "      <td>0.078730</td>\n",
       "      <td>0.037806</td>\n",
       "      <td>0.033506</td>\n",
       "    </tr>\n",
       "    <tr>\n",
       "      <th>std</th>\n",
       "      <td>5.458547</td>\n",
       "      <td>3.455735</td>\n",
       "      <td>6.191598</td>\n",
       "      <td>3.161150</td>\n",
       "      <td>4.132506</td>\n",
       "      <td>1.636388</td>\n",
       "      <td>5.653522</td>\n",
       "      <td>4.609055</td>\n",
       "      <td>2.190267</td>\n",
       "      <td>4.432271</td>\n",
       "      <td>...</td>\n",
       "      <td>0.947286</td>\n",
       "      <td>2.517321</td>\n",
       "      <td>1.078611</td>\n",
       "      <td>0.991756</td>\n",
       "      <td>0.537143</td>\n",
       "      <td>0.626687</td>\n",
       "      <td>0.435436</td>\n",
       "      <td>0.918736</td>\n",
       "      <td>0.393738</td>\n",
       "      <td>0.069555</td>\n",
       "    </tr>\n",
       "    <tr>\n",
       "      <th>min</th>\n",
       "      <td>-32.962810</td>\n",
       "      <td>-18.992015</td>\n",
       "      <td>-32.965346</td>\n",
       "      <td>-5.560118</td>\n",
       "      <td>-23.505167</td>\n",
       "      <td>-10.908778</td>\n",
       "      <td>-43.557242</td>\n",
       "      <td>-41.044261</td>\n",
       "      <td>-13.434066</td>\n",
       "      <td>-24.588262</td>\n",
       "      <td>...</td>\n",
       "      <td>-12.425404</td>\n",
       "      <td>-22.797604</td>\n",
       "      <td>-8.887017</td>\n",
       "      <td>-19.254328</td>\n",
       "      <td>-2.822684</td>\n",
       "      <td>-4.781606</td>\n",
       "      <td>-1.697018</td>\n",
       "      <td>-9.895244</td>\n",
       "      <td>-8.478686</td>\n",
       "      <td>0.000000</td>\n",
       "    </tr>\n",
       "    <tr>\n",
       "      <th>25%</th>\n",
       "      <td>-2.864274</td>\n",
       "      <td>0.012518</td>\n",
       "      <td>-5.225366</td>\n",
       "      <td>-0.055823</td>\n",
       "      <td>-1.723633</td>\n",
       "      <td>-1.538563</td>\n",
       "      <td>-3.210508</td>\n",
       "      <td>-0.181997</td>\n",
       "      <td>-2.314117</td>\n",
       "      <td>-4.574874</td>\n",
       "      <td>...</td>\n",
       "      <td>-0.203664</td>\n",
       "      <td>-0.168003</td>\n",
       "      <td>-0.484979</td>\n",
       "      <td>-0.199721</td>\n",
       "      <td>-0.380214</td>\n",
       "      <td>-0.314716</td>\n",
       "      <td>-0.263125</td>\n",
       "      <td>-0.061764</td>\n",
       "      <td>-0.058364</td>\n",
       "      <td>0.001336</td>\n",
       "    </tr>\n",
       "    <tr>\n",
       "      <th>50%</th>\n",
       "      <td>-0.746370</td>\n",
       "      <td>1.062370</td>\n",
       "      <td>-1.523102</td>\n",
       "      <td>1.452540</td>\n",
       "      <td>-0.355694</td>\n",
       "      <td>-0.708473</td>\n",
       "      <td>-0.736132</td>\n",
       "      <td>0.184907</td>\n",
       "      <td>-0.808305</td>\n",
       "      <td>-0.988934</td>\n",
       "      <td>...</td>\n",
       "      <td>0.005966</td>\n",
       "      <td>0.147003</td>\n",
       "      <td>0.034894</td>\n",
       "      <td>-0.016462</td>\n",
       "      <td>-0.004187</td>\n",
       "      <td>0.028201</td>\n",
       "      <td>-0.003823</td>\n",
       "      <td>0.060181</td>\n",
       "      <td>0.033212</td>\n",
       "      <td>0.009290</td>\n",
       "    </tr>\n",
       "    <tr>\n",
       "      <th>75%</th>\n",
       "      <td>0.950750</td>\n",
       "      <td>2.836866</td>\n",
       "      <td>0.246240</td>\n",
       "      <td>4.359749</td>\n",
       "      <td>0.503840</td>\n",
       "      <td>-0.023479</td>\n",
       "      <td>0.171879</td>\n",
       "      <td>0.875784</td>\n",
       "      <td>0.044178</td>\n",
       "      <td>-0.026290</td>\n",
       "      <td>...</td>\n",
       "      <td>0.371213</td>\n",
       "      <td>0.620656</td>\n",
       "      <td>0.539158</td>\n",
       "      <td>0.186939</td>\n",
       "      <td>0.348324</td>\n",
       "      <td>0.356190</td>\n",
       "      <td>0.281298</td>\n",
       "      <td>0.425433</td>\n",
       "      <td>0.210262</td>\n",
       "      <td>0.034616</td>\n",
       "    </tr>\n",
       "    <tr>\n",
       "      <th>max</th>\n",
       "      <td>2.451888</td>\n",
       "      <td>22.057729</td>\n",
       "      <td>4.187811</td>\n",
       "      <td>12.114672</td>\n",
       "      <td>16.238056</td>\n",
       "      <td>8.933762</td>\n",
       "      <td>6.755575</td>\n",
       "      <td>20.007208</td>\n",
       "      <td>9.234623</td>\n",
       "      <td>15.331742</td>\n",
       "      <td>...</td>\n",
       "      <td>11.059004</td>\n",
       "      <td>27.202839</td>\n",
       "      <td>8.361985</td>\n",
       "      <td>15.093942</td>\n",
       "      <td>4.014444</td>\n",
       "      <td>4.747061</td>\n",
       "      <td>3.119295</td>\n",
       "      <td>5.417347</td>\n",
       "      <td>15.942151</td>\n",
       "      <td>1.000000</td>\n",
       "    </tr>\n",
       "  </tbody>\n",
       "</table>\n",
       "<p>8 rows × 29 columns</p>\n",
       "</div>"
      ],
      "text/plain": [
       "                  V1             V2             V3             V4  \\\n",
       "count  227450.000000  227450.000000  227450.000000  227450.000000   \n",
       "mean       -2.374655       2.005514      -3.652728       2.327745   \n",
       "std         5.458547       3.455735       6.191598       3.161150   \n",
       "min       -32.962810     -18.992015     -32.965346      -5.560118   \n",
       "25%        -2.864274       0.012518      -5.225366      -0.055823   \n",
       "50%        -0.746370       1.062370      -1.523102       1.452540   \n",
       "75%         0.950750       2.836866       0.246240       4.359749   \n",
       "max         2.451888      22.057729       4.187811      12.114672   \n",
       "\n",
       "                  V5             V6             V7             V8  \\\n",
       "count  227450.000000  227450.000000  227450.000000  227450.000000   \n",
       "mean       -1.547068      -0.753205      -2.921005       0.363204   \n",
       "std         4.132506       1.636388       5.653522       4.609055   \n",
       "min       -23.505167     -10.908778     -43.557242     -41.044261   \n",
       "25%        -1.723633      -1.538563      -3.210508      -0.181997   \n",
       "50%        -0.355694      -0.708473      -0.736132       0.184907   \n",
       "75%         0.503840      -0.023479       0.171879       0.875784   \n",
       "max        16.238056       8.933762       6.755575      20.007208   \n",
       "\n",
       "                  V9            V10  ...            V20            V21  \\\n",
       "count  227450.000000  227450.000000  ...  227450.000000  227450.000000   \n",
       "mean       -1.347795      -2.875675  ...       0.150190       0.321123   \n",
       "std         2.190267       4.432271  ...       0.947286       2.517321   \n",
       "min       -13.434066     -24.588262  ...     -12.425404     -22.797604   \n",
       "25%        -2.314117      -4.574874  ...      -0.203664      -0.168003   \n",
       "50%        -0.808305      -0.988934  ...       0.005966       0.147003   \n",
       "75%         0.044178      -0.026290  ...       0.371213       0.620656   \n",
       "max         9.234623      15.331742  ...      11.059004      27.202839   \n",
       "\n",
       "                 V22            V23            V24            V25  \\\n",
       "count  227450.000000  227450.000000  227450.000000  227450.000000   \n",
       "mean        0.024979      -0.019451      -0.050445       0.006540   \n",
       "std         1.078611       0.991756       0.537143       0.626687   \n",
       "min        -8.887017     -19.254328      -2.822684      -4.781606   \n",
       "25%        -0.484979      -0.199721      -0.380214      -0.314716   \n",
       "50%         0.034894      -0.016462      -0.004187       0.028201   \n",
       "75%         0.539158       0.186939       0.348324       0.356190   \n",
       "max         8.361985      15.093942       4.014444       4.747061   \n",
       "\n",
       "                 V26            V27            V28         Amount  \n",
       "count  227450.000000  227450.000000  227450.000000  227450.000000  \n",
       "mean        0.024019       0.078730       0.037806       0.033506  \n",
       "std         0.435436       0.918736       0.393738       0.069555  \n",
       "min        -1.697018      -9.895244      -8.478686       0.000000  \n",
       "25%        -0.263125      -0.061764      -0.058364       0.001336  \n",
       "50%        -0.003823       0.060181       0.033212       0.009290  \n",
       "75%         0.281298       0.425433       0.210262       0.034616  \n",
       "max         3.119295       5.417347      15.942151       1.000000  \n",
       "\n",
       "[8 rows x 29 columns]"
      ]
     },
     "execution_count": 67,
     "metadata": {},
     "output_type": "execute_result"
    }
   ],
   "source": [
    "x_resampled.describe()"
   ]
  },
  {
   "cell_type": "code",
   "execution_count": 68,
   "id": "5eca155f",
   "metadata": {},
   "outputs": [
    {
     "data": {
      "text/html": [
       "<div>\n",
       "<style scoped>\n",
       "    .dataframe tbody tr th:only-of-type {\n",
       "        vertical-align: middle;\n",
       "    }\n",
       "\n",
       "    .dataframe tbody tr th {\n",
       "        vertical-align: top;\n",
       "    }\n",
       "\n",
       "    .dataframe thead th {\n",
       "        text-align: right;\n",
       "    }\n",
       "</style>\n",
       "<table border=\"1\" class=\"dataframe\">\n",
       "  <thead>\n",
       "    <tr style=\"text-align: right;\">\n",
       "      <th></th>\n",
       "      <th>V1</th>\n",
       "      <th>V2</th>\n",
       "      <th>V3</th>\n",
       "      <th>V4</th>\n",
       "      <th>V5</th>\n",
       "      <th>V6</th>\n",
       "      <th>V7</th>\n",
       "      <th>V8</th>\n",
       "      <th>V9</th>\n",
       "      <th>V10</th>\n",
       "      <th>...</th>\n",
       "      <th>V20</th>\n",
       "      <th>V21</th>\n",
       "      <th>V22</th>\n",
       "      <th>V23</th>\n",
       "      <th>V24</th>\n",
       "      <th>V25</th>\n",
       "      <th>V26</th>\n",
       "      <th>V27</th>\n",
       "      <th>V28</th>\n",
       "      <th>Amount</th>\n",
       "    </tr>\n",
       "  </thead>\n",
       "  <tbody>\n",
       "    <tr>\n",
       "      <th>count</th>\n",
       "      <td>56962.000000</td>\n",
       "      <td>56962.000000</td>\n",
       "      <td>56962.000000</td>\n",
       "      <td>56962.000000</td>\n",
       "      <td>56962.000000</td>\n",
       "      <td>56962.000000</td>\n",
       "      <td>56962.000000</td>\n",
       "      <td>56962.000000</td>\n",
       "      <td>56962.000000</td>\n",
       "      <td>56962.000000</td>\n",
       "      <td>...</td>\n",
       "      <td>56962.000000</td>\n",
       "      <td>56962.000000</td>\n",
       "      <td>56962.000000</td>\n",
       "      <td>56962.000000</td>\n",
       "      <td>56962.000000</td>\n",
       "      <td>56962.000000</td>\n",
       "      <td>56962.000000</td>\n",
       "      <td>56962.000000</td>\n",
       "      <td>56962.000000</td>\n",
       "      <td>56962.000000</td>\n",
       "    </tr>\n",
       "    <tr>\n",
       "      <th>mean</th>\n",
       "      <td>-0.003181</td>\n",
       "      <td>0.001924</td>\n",
       "      <td>0.001532</td>\n",
       "      <td>0.000079</td>\n",
       "      <td>-0.000698</td>\n",
       "      <td>0.004685</td>\n",
       "      <td>-0.000307</td>\n",
       "      <td>0.001736</td>\n",
       "      <td>-0.002807</td>\n",
       "      <td>0.001558</td>\n",
       "      <td>...</td>\n",
       "      <td>0.003996</td>\n",
       "      <td>-0.001479</td>\n",
       "      <td>-0.001211</td>\n",
       "      <td>-0.000202</td>\n",
       "      <td>0.001109</td>\n",
       "      <td>0.002622</td>\n",
       "      <td>-0.000504</td>\n",
       "      <td>0.000282</td>\n",
       "      <td>-0.000615</td>\n",
       "      <td>0.006897</td>\n",
       "    </tr>\n",
       "    <tr>\n",
       "      <th>std</th>\n",
       "      <td>1.957791</td>\n",
       "      <td>1.660157</td>\n",
       "      <td>1.520112</td>\n",
       "      <td>1.415887</td>\n",
       "      <td>1.382965</td>\n",
       "      <td>1.336478</td>\n",
       "      <td>1.231741</td>\n",
       "      <td>1.205777</td>\n",
       "      <td>1.103746</td>\n",
       "      <td>1.099188</td>\n",
       "      <td>...</td>\n",
       "      <td>0.771395</td>\n",
       "      <td>0.732772</td>\n",
       "      <td>0.725571</td>\n",
       "      <td>0.612490</td>\n",
       "      <td>0.606951</td>\n",
       "      <td>0.521444</td>\n",
       "      <td>0.483381</td>\n",
       "      <td>0.398388</td>\n",
       "      <td>0.342373</td>\n",
       "      <td>0.019185</td>\n",
       "    </tr>\n",
       "    <tr>\n",
       "      <th>min</th>\n",
       "      <td>-37.558067</td>\n",
       "      <td>-42.172688</td>\n",
       "      <td>-32.454198</td>\n",
       "      <td>-5.263068</td>\n",
       "      <td>-40.427726</td>\n",
       "      <td>-19.996349</td>\n",
       "      <td>-31.197329</td>\n",
       "      <td>-50.688419</td>\n",
       "      <td>-9.481456</td>\n",
       "      <td>-22.187089</td>\n",
       "      <td>...</td>\n",
       "      <td>-28.009635</td>\n",
       "      <td>-22.757540</td>\n",
       "      <td>-8.887017</td>\n",
       "      <td>-26.751119</td>\n",
       "      <td>-2.822384</td>\n",
       "      <td>-7.495741</td>\n",
       "      <td>-1.855355</td>\n",
       "      <td>-9.845808</td>\n",
       "      <td>-8.412267</td>\n",
       "      <td>0.000000</td>\n",
       "    </tr>\n",
       "    <tr>\n",
       "      <th>25%</th>\n",
       "      <td>-0.922012</td>\n",
       "      <td>-0.597742</td>\n",
       "      <td>-0.885412</td>\n",
       "      <td>-0.855101</td>\n",
       "      <td>-0.689776</td>\n",
       "      <td>-0.767032</td>\n",
       "      <td>-0.556383</td>\n",
       "      <td>-0.211144</td>\n",
       "      <td>-0.654460</td>\n",
       "      <td>-0.534021</td>\n",
       "      <td>...</td>\n",
       "      <td>-0.212152</td>\n",
       "      <td>-0.229432</td>\n",
       "      <td>-0.543363</td>\n",
       "      <td>-0.161485</td>\n",
       "      <td>-0.353306</td>\n",
       "      <td>-0.318244</td>\n",
       "      <td>-0.329162</td>\n",
       "      <td>-0.071348</td>\n",
       "      <td>-0.053144</td>\n",
       "      <td>0.000426</td>\n",
       "    </tr>\n",
       "    <tr>\n",
       "      <th>50%</th>\n",
       "      <td>0.014539</td>\n",
       "      <td>0.069051</td>\n",
       "      <td>0.179703</td>\n",
       "      <td>-0.013487</td>\n",
       "      <td>-0.052099</td>\n",
       "      <td>-0.274488</td>\n",
       "      <td>0.039029</td>\n",
       "      <td>0.018431</td>\n",
       "      <td>-0.053372</td>\n",
       "      <td>-0.091538</td>\n",
       "      <td>...</td>\n",
       "      <td>-0.062045</td>\n",
       "      <td>-0.030054</td>\n",
       "      <td>0.007985</td>\n",
       "      <td>-0.011928</td>\n",
       "      <td>0.041618</td>\n",
       "      <td>0.018827</td>\n",
       "      <td>-0.053818</td>\n",
       "      <td>0.000895</td>\n",
       "      <td>0.011321</td>\n",
       "      <td>0.001704</td>\n",
       "    </tr>\n",
       "    <tr>\n",
       "      <th>75%</th>\n",
       "      <td>1.315764</td>\n",
       "      <td>0.802856</td>\n",
       "      <td>1.029285</td>\n",
       "      <td>0.747315</td>\n",
       "      <td>0.615923</td>\n",
       "      <td>0.403490</td>\n",
       "      <td>0.570031</td>\n",
       "      <td>0.325590</td>\n",
       "      <td>0.593091</td>\n",
       "      <td>0.451679</td>\n",
       "      <td>...</td>\n",
       "      <td>0.134361</td>\n",
       "      <td>0.186474</td>\n",
       "      <td>0.529293</td>\n",
       "      <td>0.147841</td>\n",
       "      <td>0.442355</td>\n",
       "      <td>0.354786</td>\n",
       "      <td>0.241305</td>\n",
       "      <td>0.090562</td>\n",
       "      <td>0.078955</td>\n",
       "      <td>0.005928</td>\n",
       "    </tr>\n",
       "    <tr>\n",
       "      <th>max</th>\n",
       "      <td>2.454930</td>\n",
       "      <td>17.930550</td>\n",
       "      <td>4.226108</td>\n",
       "      <td>12.132323</td>\n",
       "      <td>28.762671</td>\n",
       "      <td>23.917837</td>\n",
       "      <td>44.054461</td>\n",
       "      <td>18.282168</td>\n",
       "      <td>9.125535</td>\n",
       "      <td>13.811758</td>\n",
       "      <td>...</td>\n",
       "      <td>26.237391</td>\n",
       "      <td>27.202839</td>\n",
       "      <td>8.272233</td>\n",
       "      <td>19.002942</td>\n",
       "      <td>4.022866</td>\n",
       "      <td>7.519589</td>\n",
       "      <td>3.116200</td>\n",
       "      <td>10.507884</td>\n",
       "      <td>22.620072</td>\n",
       "      <td>1.000000</td>\n",
       "    </tr>\n",
       "  </tbody>\n",
       "</table>\n",
       "<p>8 rows × 29 columns</p>\n",
       "</div>"
      ],
      "text/plain": [
       "                 V1            V2            V3            V4            V5  \\\n",
       "count  56962.000000  56962.000000  56962.000000  56962.000000  56962.000000   \n",
       "mean      -0.003181      0.001924      0.001532      0.000079     -0.000698   \n",
       "std        1.957791      1.660157      1.520112      1.415887      1.382965   \n",
       "min      -37.558067    -42.172688    -32.454198     -5.263068    -40.427726   \n",
       "25%       -0.922012     -0.597742     -0.885412     -0.855101     -0.689776   \n",
       "50%        0.014539      0.069051      0.179703     -0.013487     -0.052099   \n",
       "75%        1.315764      0.802856      1.029285      0.747315      0.615923   \n",
       "max        2.454930     17.930550      4.226108     12.132323     28.762671   \n",
       "\n",
       "                 V6            V7            V8            V9           V10  \\\n",
       "count  56962.000000  56962.000000  56962.000000  56962.000000  56962.000000   \n",
       "mean       0.004685     -0.000307      0.001736     -0.002807      0.001558   \n",
       "std        1.336478      1.231741      1.205777      1.103746      1.099188   \n",
       "min      -19.996349    -31.197329    -50.688419     -9.481456    -22.187089   \n",
       "25%       -0.767032     -0.556383     -0.211144     -0.654460     -0.534021   \n",
       "50%       -0.274488      0.039029      0.018431     -0.053372     -0.091538   \n",
       "75%        0.403490      0.570031      0.325590      0.593091      0.451679   \n",
       "max       23.917837     44.054461     18.282168      9.125535     13.811758   \n",
       "\n",
       "       ...           V20           V21           V22           V23  \\\n",
       "count  ...  56962.000000  56962.000000  56962.000000  56962.000000   \n",
       "mean   ...      0.003996     -0.001479     -0.001211     -0.000202   \n",
       "std    ...      0.771395      0.732772      0.725571      0.612490   \n",
       "min    ...    -28.009635    -22.757540     -8.887017    -26.751119   \n",
       "25%    ...     -0.212152     -0.229432     -0.543363     -0.161485   \n",
       "50%    ...     -0.062045     -0.030054      0.007985     -0.011928   \n",
       "75%    ...      0.134361      0.186474      0.529293      0.147841   \n",
       "max    ...     26.237391     27.202839      8.272233     19.002942   \n",
       "\n",
       "                V24           V25           V26           V27           V28  \\\n",
       "count  56962.000000  56962.000000  56962.000000  56962.000000  56962.000000   \n",
       "mean       0.001109      0.002622     -0.000504      0.000282     -0.000615   \n",
       "std        0.606951      0.521444      0.483381      0.398388      0.342373   \n",
       "min       -2.822384     -7.495741     -1.855355     -9.845808     -8.412267   \n",
       "25%       -0.353306     -0.318244     -0.329162     -0.071348     -0.053144   \n",
       "50%        0.041618      0.018827     -0.053818      0.000895      0.011321   \n",
       "75%        0.442355      0.354786      0.241305      0.090562      0.078955   \n",
       "max        4.022866      7.519589      3.116200     10.507884     22.620072   \n",
       "\n",
       "             Amount  \n",
       "count  56962.000000  \n",
       "mean       0.006897  \n",
       "std        0.019185  \n",
       "min        0.000000  \n",
       "25%        0.000426  \n",
       "50%        0.001704  \n",
       "75%        0.005928  \n",
       "max        1.000000  \n",
       "\n",
       "[8 rows x 29 columns]"
      ]
     },
     "execution_count": 68,
     "metadata": {},
     "output_type": "execute_result"
    }
   ],
   "source": [
    "x_test.describe()"
   ]
  },
  {
   "cell_type": "markdown",
   "id": "3d9ba250",
   "metadata": {},
   "source": [
    "# Random Forest"
   ]
  },
  {
   "cell_type": "code",
   "execution_count": null,
   "id": "9a7dd85c",
   "metadata": {},
   "outputs": [
    {
     "name": "stdout",
     "output_type": "stream",
     "text": [
      "confusion_matrix:  [[56830    34]\n",
      " [   13    85]]\n",
      "classification_report:                precision    recall  f1-score   support\n",
      "\n",
      "           0       1.00      1.00      1.00     56864\n",
      "           1       0.71      0.87      0.78        98\n",
      "\n",
      "    accuracy                           1.00     56962\n",
      "   macro avg       0.86      0.93      0.89     56962\n",
      "weighted avg       1.00      1.00      1.00     56962\n",
      "\n",
      "f1_score:  0.783410138248848\n"
     ]
    }
   ],
   "source": [
    "model1 = RandomForestClassifier(n_estimators=50)\n",
    "model1.fit(x_resampled, y_resampled)\n",
    "y_pred = model1.predict(x_test)\n",
    "\n",
    "print('confusion_matrix: ', confusion_matrix(y_test, y_pred))\n",
    "print('classification_report: ', classification_report(y_test, y_pred))\n"
   ]
  },
  {
   "cell_type": "markdown",
   "id": "70712db3",
   "metadata": {},
   "source": [
    "# SVC"
   ]
  },
  {
   "cell_type": "code",
   "execution_count": 71,
   "id": "316d1948",
   "metadata": {},
   "outputs": [
    {
     "name": "stdout",
     "output_type": "stream",
     "text": [
      "confusion_matrix:  [[56176   688]\n",
      " [    9    89]]\n",
      "classification_report:                precision    recall  f1-score   support\n",
      "\n",
      "           0       1.00      0.99      0.99     56864\n",
      "           1       0.11      0.91      0.20        98\n",
      "\n",
      "    accuracy                           0.99     56962\n",
      "   macro avg       0.56      0.95      0.60     56962\n",
      "weighted avg       1.00      0.99      0.99     56962\n",
      "\n"
     ]
    }
   ],
   "source": [
    "model2 = SVC()\n",
    "model2.fit(x_resampled, y_resampled)\n",
    "y_pred = model2.predict(x_test)\n",
    "\n",
    "print('confusion_matrix: ', confusion_matrix(y_test, y_pred))\n",
    "print('classification_report: ', classification_report(y_test, y_pred))"
   ]
  },
  {
   "cell_type": "markdown",
   "id": "b1a53037",
   "metadata": {},
   "source": [
    "# XGBoost"
   ]
  },
  {
   "cell_type": "code",
   "execution_count": 73,
   "id": "b7caf4a8",
   "metadata": {},
   "outputs": [
    {
     "name": "stdout",
     "output_type": "stream",
     "text": [
      "confusion_matrix:  [[56759   105]\n",
      " [   12    86]]\n",
      "classification_report:                precision    recall  f1-score   support\n",
      "\n",
      "           0       1.00      1.00      1.00     56864\n",
      "           1       0.45      0.88      0.60        98\n",
      "\n",
      "    accuracy                           1.00     56962\n",
      "   macro avg       0.73      0.94      0.80     56962\n",
      "weighted avg       1.00      1.00      1.00     56962\n",
      "\n"
     ]
    }
   ],
   "source": [
    "model3 = XGBClassifier()\n",
    "model3.fit(x_resampled, y_resampled)\n",
    "y_pred = model3.predict(x_test)\n",
    "\n",
    "print('confusion_matrix: ', confusion_matrix(y_test, y_pred))\n",
    "print('classification_report: ', classification_report(y_test, y_pred))"
   ]
  },
  {
   "cell_type": "markdown",
   "id": "c996c1a0",
   "metadata": {},
   "source": [
    "# KNeighbors"
   ]
  },
  {
   "cell_type": "code",
   "execution_count": 75,
   "id": "d5406229",
   "metadata": {},
   "outputs": [
    {
     "name": "stdout",
     "output_type": "stream",
     "text": [
      "confusion_matrix:  [[56564   300]\n",
      " [   10    88]]\n",
      "classification_report:                precision    recall  f1-score   support\n",
      "\n",
      "           0       1.00      0.99      1.00     56864\n",
      "           1       0.23      0.90      0.36        98\n",
      "\n",
      "    accuracy                           0.99     56962\n",
      "   macro avg       0.61      0.95      0.68     56962\n",
      "weighted avg       1.00      0.99      1.00     56962\n",
      "\n"
     ]
    }
   ],
   "source": [
    "model4 = KNeighborsClassifier()\n",
    "model4.fit(x_resampled, y_resampled)\n",
    "y_pred = model4.predict(x_test)\n",
    "\n",
    "print('confusion_matrix: ', confusion_matrix(y_test, y_pred))\n",
    "print('classification_report: ', classification_report(y_test, y_pred))"
   ]
  },
  {
   "cell_type": "code",
   "execution_count": null,
   "id": "857ee90c",
   "metadata": {},
   "outputs": [],
   "source": []
  }
 ],
 "metadata": {
  "kernelspec": {
   "display_name": "Global_env",
   "language": "python",
   "name": "python3"
  },
  "language_info": {
   "codemirror_mode": {
    "name": "ipython",
    "version": 3
   },
   "file_extension": ".py",
   "mimetype": "text/x-python",
   "name": "python",
   "nbconvert_exporter": "python",
   "pygments_lexer": "ipython3",
   "version": "3.13.2"
  }
 },
 "nbformat": 4,
 "nbformat_minor": 5
}
